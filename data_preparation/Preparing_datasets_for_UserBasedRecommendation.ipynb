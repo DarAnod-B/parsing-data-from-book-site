{
 "cells": [
  {
   "cell_type": "markdown",
   "id": "ea1eb077",
   "metadata": {},
   "source": [
    "### Подготовка датасетов для работы с UserBasedRecommendation моделью"
   ]
  },
  {
   "cell_type": "markdown",
   "id": "5b489aae",
   "metadata": {},
   "source": [
    "**Загрузка библиотек.**"
   ]
  },
  {
   "cell_type": "code",
   "execution_count": 14,
   "id": "1302d5a3",
   "metadata": {},
   "outputs": [],
   "source": [
    "import pandas as pd"
   ]
  },
  {
   "cell_type": "markdown",
   "id": "051ccfbd",
   "metadata": {},
   "source": [
    "**Загрузка данных.**"
   ]
  },
  {
   "cell_type": "code",
   "execution_count": 52,
   "id": "d44f9baf",
   "metadata": {},
   "outputs": [],
   "source": [
    "pd.options.mode.chained_assignment = None\n",
    "\n",
    "file_user = r\"C:\\Programming\\GitHub\\book_recomendation_system\\data\\user.csv\"\n",
    "file_book = r\"C:\\Programming\\GitHub\\book_recomendation_system\\data\\book.csv\"\n",
    "\n",
    "df_user = pd.read_csv(file_user, sep=';', on_bad_lines='skip')\n",
    "df_book = pd.read_csv(file_book, sep=',', on_bad_lines='skip', index_col=0)"
   ]
  },
  {
   "cell_type": "markdown",
   "id": "0c6efa5f",
   "metadata": {},
   "source": [
    "Обработка столбцов и объектов в df_user."
   ]
  },
  {
   "cell_type": "code",
   "execution_count": 53,
   "id": "a4835d7c",
   "metadata": {},
   "outputs": [],
   "source": [
    "df_user.rename(columns={'книга': 'id_book', \n",
    "                        'пользователь':'user', \n",
    "                        'оценка_книги':'grade'}, inplace=True)\n",
    "df_user = df_user[['id_book', 'user', 'grade']]\n",
    "\n",
    "df_user['id_book'] = df_user['id_book'].apply(lambda x: x[23:])\n",
    "df_user['user'] = df_user['user'].apply(lambda x: x[5:])\n",
    "\n",
    "df_user = df_user.query('grade != \"нет\"')\n",
    "df_user = df_user.astype('int')"
   ]
  },
  {
   "attachments": {},
   "cell_type": "markdown",
   "id": "b526d610",
   "metadata": {},
   "source": [
    "**Обработка объектов и столбцов в df_book.**"
   ]
  },
  {
   "cell_type": "code",
   "execution_count": 55,
   "id": "7b7034c2",
   "metadata": {},
   "outputs": [],
   "source": [
    "df_book = df_book[['название', 'сайт']]\n",
    "df_book.rename(columns={'название': 'name', 'сайт': 'id_book'}, inplace=True)\n",
    "df_book['id_book'] = df_book['id_book'].apply(\n",
    "    lambda x: x[23:]).astype('int64')"
   ]
  },
  {
   "cell_type": "markdown",
   "id": "1402780f",
   "metadata": {},
   "source": [
    "**Сортировка по количеству книг и пользователей:**"
   ]
  },
  {
   "cell_type": "code",
   "execution_count": 56,
   "id": "348903f2",
   "metadata": {},
   "outputs": [],
   "source": [
    "books_with_min_users = df_user.groupby(\n",
    "    'id_book').count().reset_index().query('user > 2')['id_book']\n",
    "users_with_min_books = df_user.groupby(\n",
    "    'user').count().reset_index().query('id_book > 5')['user']\n",
    "\n",
    "df_user = df_user.query(\n",
    "    '(id_book in @books_with_min_users) and (user in @users_with_min_books)').reset_index(drop=True)"
   ]
  },
  {
   "attachments": {},
   "cell_type": "markdown",
   "id": "0595c043",
   "metadata": {},
   "source": [
    "**Объединение датафреймов**"
   ]
  },
  {
   "cell_type": "code",
   "execution_count": 76,
   "id": "f815c8e6",
   "metadata": {},
   "outputs": [],
   "source": [
    "data_for_rec_system = df_user.merge(df_book, on='id_book')"
   ]
  },
  {
   "cell_type": "markdown",
   "id": "49613906",
   "metadata": {},
   "source": [
    "**Скачивание датасетов:**"
   ]
  },
  {
   "cell_type": "code",
   "execution_count": 77,
   "id": "75235121",
   "metadata": {},
   "outputs": [],
   "source": [
    "# data_for_rec_system.to_csv('data_for_rec_system.csv')"
   ]
  }
 ],
 "metadata": {
  "kernelspec": {
   "display_name": "Python 3 (ipykernel)",
   "language": "python",
   "name": "python3"
  },
  "language_info": {
   "codemirror_mode": {
    "name": "ipython",
    "version": 3
   },
   "file_extension": ".py",
   "mimetype": "text/x-python",
   "name": "python",
   "nbconvert_exporter": "python",
   "pygments_lexer": "ipython3",
   "version": "3.10.4 (tags/v3.10.4:9d38120, Mar 23 2022, 23:13:41) [MSC v.1929 64 bit (AMD64)]"
  },
  "latex_envs": {
   "LaTeX_envs_menu_present": true,
   "autoclose": false,
   "autocomplete": true,
   "bibliofile": "biblio.bib",
   "cite_by": "apalike",
   "current_citInitial": 1,
   "eqLabelWithNumbers": true,
   "eqNumInitial": 1,
   "hotkeys": {
    "equation": "Ctrl-E",
    "itemize": "Ctrl-I"
   },
   "labels_anchors": false,
   "latex_user_defs": false,
   "report_style_numbering": false,
   "user_envs_cfg": false
  },
  "toc": {
   "base_numbering": 1,
   "nav_menu": {},
   "number_sections": false,
   "sideBar": true,
   "skip_h1_title": false,
   "title_cell": "Table of Contents",
   "title_sidebar": "Contents",
   "toc_cell": false,
   "toc_position": {},
   "toc_section_display": true,
   "toc_window_display": false
  },
  "vscode": {
   "interpreter": {
    "hash": "b629c3126b5df0b3c19ac5f524890cb3a3a2e86c1a2f2c4b1c29287aa73e65d0"
   }
  }
 },
 "nbformat": 4,
 "nbformat_minor": 5
}
